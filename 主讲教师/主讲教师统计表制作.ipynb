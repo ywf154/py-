{
 "cells": [
  {
   "cell_type": "code",
   "outputs": [],
   "source": [
    "import numpy as np\n",
    "import pandas as pd\n",
    "from datetime import datetime"
   ],
   "metadata": {
    "collapsed": false,
    "ExecuteTime": {
     "end_time": "2024-01-26T21:26:00.631871800Z",
     "start_time": "2024-01-26T21:26:00.512801500Z"
    }
   },
   "id": "8015821f59ff2099",
   "execution_count": 286
  },
  {
   "cell_type": "code",
   "outputs": [
    {
     "name": "stderr",
     "output_type": "stream",
     "text": [
      "C:\\Python312\\Lib\\site-packages\\openpyxl\\styles\\stylesheet.py:226: UserWarning: Workbook contains no default style, apply openpyxl's default\n",
      "  warn(\"Workbook contains no default style, apply openpyxl's default\")\n",
      "C:\\Python312\\Lib\\site-packages\\openpyxl\\styles\\stylesheet.py:226: UserWarning: Workbook contains no default style, apply openpyxl's default\n",
      "  warn(\"Workbook contains no default style, apply openpyxl's default\")\n"
     ]
    }
   ],
   "source": [
    "# 读取数据源\n",
    "def read2df(filename, sheet_name,header=1):\n",
    "       return pd.read_excel(filename + '.xlsx',sheet_name=sheet_name,header=header)\n",
    "Courses = read2df('1.3.1_高职课程设置表','1.3.1_高职课程设置表')\n",
    "Teaching = read2df('2.1.1_高职授课表','2.1.1_高职授课表')\n",
    "fullTimeTeacher = read2df('专兼职教师（状态数据）','专职')\n",
    "partTimeTeacher = read2df('专兼职教师（状态数据）','兼职')"
   ],
   "metadata": {
    "collapsed": false,
    "ExecuteTime": {
     "end_time": "2024-01-26T21:26:05.171289700Z",
     "start_time": "2024-01-26T21:26:00.640871Z"
    }
   },
   "id": "239328294ee00b8e",
   "execution_count": 287
  },
  {
   "cell_type": "code",
   "outputs": [],
   "source": [
    "# 筛选交通工程学院\n",
    "## 定义一个筛选器：筛选交通工程学院\n",
    "def queryJT(df,str):\n",
    "       jt = '交通工程学院'\n",
    "       return df[df[str]==jt]\n",
    "Courses = queryJT(Courses,'开课单位名称*')\n",
    "Teaching = queryJT(Teaching,'开课单位名称*')\n",
    "fullTimeTeacher = queryJT(fullTimeTeacher,'院系')\n",
    "partTimeTeacher = queryJT(partTimeTeacher,'部门')\n",
    "Teach_Course = pd.merge(Teaching,Courses,how='left',on=['课程名称*'])"
   ],
   "metadata": {
    "collapsed": false,
    "ExecuteTime": {
     "end_time": "2024-01-26T21:26:05.216053Z",
     "start_time": "2024-01-26T21:26:05.177296600Z"
    }
   },
   "id": "726633076e8f23d1",
   "execution_count": 288
  },
  {
   "cell_type": "markdown",
   "source": [
    "# Teach_Course：汇总教师授课表和课程设置表\n",
    "      '授课教师工号*', '授课教师姓名*', '教师类别*', '专业名称*_x', '专业代码*_x', '专业层次*_x', '学制*_x',\n",
    "       '培养方式*_x', '具体形式*_x', '生源类型*_x', '授课年级*', '课程名称*', '课程代码*_x', '授课学期*',\n",
    "       '开课单位名称*_x', '授课任务*', '班级名称*', '教学工作量（学时）*', '线上教学（学时）*', '填报人_x',\n",
    "       '专业名称*_y', '专业代码*_y', '专业层次*_y', '学制*_y', '培养方式*_y', '具体形式*_y',\n",
    "       '生源类型*_y', '年级*', '课程代码*_y', '课程类型*', '课程属性*', '公共基础课*', '专业（技能）课*',\n",
    "       '课程性质*', '开课学期*', '开课单位名称*_y', '是否校企合作开发课程*', '合作企业名称*', '精品在线开放课程*',\n",
    "       '是否课证融通课程*', '是否网络教学课程*', '课程思政示范课*', '课程总学时（个）*', '其中，实践教学学时（个）*',\n",
    "       '填报人_y'\n",
    "       需要的信息：\n",
    "       基础课：专业（技能）课*   专业基础课\n",
    "       实践课：课程类型*           不为A类\n",
    "       校外教师："
   ],
   "metadata": {
    "collapsed": false
   },
   "id": "2da9ed9c7c76bec2"
  },
  {
   "cell_type": "code",
   "outputs": [],
   "source": [
    "# 实践课加*\n",
    "def add_xing(row):\n",
    "       return row['课程名称*'] if row['课程类型*'] == 'A类' else '*' + row['课程名称*']\n",
    "Teach_Course['课程名称*'] = Teach_Course.apply(add_xing,axis=1)"
   ],
   "metadata": {
    "collapsed": false,
    "ExecuteTime": {
     "end_time": "2024-01-26T21:26:05.252624300Z",
     "start_time": "2024-01-26T21:26:05.202050400Z"
    }
   },
   "id": "5061db8f48633d13",
   "execution_count": 289
  },
  {
   "cell_type": "code",
   "outputs": [],
   "source": [
    "# 分类基础、实践\n",
    "Teach_Course_base = Teach_Course[Teach_Course['专业（技能）课*']=='专业基础课']\n",
    "Teach_Course_prac = Teach_Course[Teach_Course['课程类型*'] !='A类']"
   ],
   "metadata": {
    "collapsed": false,
    "ExecuteTime": {
     "end_time": "2024-01-26T21:26:05.269639300Z",
     "start_time": "2024-01-26T21:26:05.241255Z"
    }
   },
   "id": "b5def8a969ecb2ba",
   "execution_count": 290
  },
  {
   "cell_type": "markdown",
   "source": [
    "# Teach_Course_3:提取所需数据\n",
    "授课教师姓名*、课程名称*（、加入）、专业名称*_x（、加入）、教学工作量（学时）*（求和）"
   ],
   "metadata": {
    "collapsed": false
   },
   "id": "706bbc846334dacb"
  },
  {
   "cell_type": "code",
   "outputs": [],
   "source": [
    "# 授课教师姓名*、课程名称*（、加入）、专业名称*_x（、加入）、教学工作量（学时）*（求和）\n",
    "def textjoin(x):\n",
    "       return '、'.join(x)\n",
    "def groupbyName(df):\n",
    "       df =  df.groupby('授课教师姓名*').agg({\n",
    "       '课程名称*':textjoin,\n",
    "       '专业名称*_x':textjoin,\n",
    "       '教学工作量（学时）*':'sum'})\n",
    "       # 不丢弃索引的方式重设索引\n",
    "       df.reset_index(drop=False,inplace=True)\n",
    "       df.columns = ['姓名','讲授课程','所在专业','承担教学工作量']\n",
    "       return df\n",
    "Teach_Course_Main_gp = groupbyName(Teach_Course)\n",
    "Teach_Course_prac_gp = groupbyName(Teach_Course_prac)\n",
    "Teach_Course_base_gp = groupbyName(Teach_Course_base)"
   ],
   "metadata": {
    "collapsed": false,
    "ExecuteTime": {
     "end_time": "2024-01-26T21:26:05.312535200Z",
     "start_time": "2024-01-26T21:26:05.264635900Z"
    }
   },
   "id": "2883955cd6d537c6",
   "execution_count": 291
  },
  {
   "cell_type": "markdown",
   "source": [
    "# mainTeach_all：教师信息总表\n",
    "# 处理专兼职表"
   ],
   "metadata": {
    "collapsed": false
   },
   "id": "81f185c96aac2a14"
  },
  {
   "cell_type": "code",
   "outputs": [],
   "source": [
    "# 处理标题不一致问题\n",
    "fullTimeTeacher.columns = ['序号', '部门', '姓名', '性别', '出生年月', '年龄', '政治面貌', '民族', '学历', '学位', '专业','是否有教师资格证', '职称', '备注', '入职时间']\n",
    "# 类别 改成主讲教师\n",
    "fullTimeTeacher.drop('序号',axis=1,inplace=True)\n",
    "partTimeTeacher.columns = ['部门', '姓名', '性别', '出生年月', '学历', '学位', '工作单位', '职称', '主讲教师']\n",
    "# 增加主讲教师\n",
    "fullTimeTeacher['主讲教师'] ='校内专任'\n",
    "partTimeTeacher['主讲教师'] ='校外兼课'\n",
    "# 制作主讲总表:mainTeach_all\n",
    "mainTeach_all = pd.concat([partTimeTeacher,fullTimeTeacher])\n",
    "# 设置姓名为索引\n",
    "mainTeach_all.set_index('姓名',inplace=True)\n",
    "# 计算年龄 \n",
    "mainTeach_all['出生年月'] = pd.to_datetime(mainTeach_all['出生年月'])\n",
    "mainTeach_all['年龄'] = datetime.now().year - mainTeach_all['出生年月'].dt.year\n",
    "# 空值填充：民族\n",
    "mainTeach_all['民族'].fillna('汉族', inplace=True)\n",
    "\n"
   ],
   "metadata": {
    "collapsed": false,
    "ExecuteTime": {
     "end_time": "2024-01-26T21:26:05.336164600Z",
     "start_time": "2024-01-26T21:26:05.315537600Z"
    }
   },
   "id": "1e513cfa687c0810",
   "execution_count": 292
  },
  {
   "cell_type": "code",
   "outputs": [
    {
     "data": {
      "text/plain": "Index(['部门', '性别', '出生年月', '学历', '学位', '工作单位', '职称', '主讲教师', '年龄', '政治面貌',\n       '民族', '专业', '是否有教师资格证', '备注', '入职时间'],\n      dtype='object')"
     },
     "execution_count": 293,
     "metadata": {},
     "output_type": "execute_result"
    }
   ],
   "source": [
    "mainTeach_all.columns"
   ],
   "metadata": {
    "collapsed": false,
    "ExecuteTime": {
     "end_time": "2024-01-26T21:26:05.364915900Z",
     "start_time": "2024-01-26T21:26:05.338165400Z"
    }
   },
   "id": "582710988b5de92e",
   "execution_count": 293
  },
  {
   "cell_type": "markdown",
   "source": [
    "# 合并mainTeach_all、Teach_Course"
   ],
   "metadata": {
    "collapsed": false
   },
   "id": "1c116e563dbffe22"
  },
  {
   "cell_type": "code",
   "outputs": [],
   "source": [
    "# 制作主讲教师表:mainTeach\n",
    "def merge_mainTeach(df):\n",
    "       df = pd.merge(mainTeach_all,df,how='left',on='姓名')\n",
    "       df = df.dropna(subset=['讲授课程'])\n",
    "       df['序号'] = df.index+1\n",
    "       df.set_index('序号')\n",
    "       return df\n",
    "mainTeach = merge_mainTeach(Teach_Course_Main_gp)\n",
    "pracTeach = merge_mainTeach(Teach_Course_prac_gp)\n",
    "baseTeach = merge_mainTeach(Teach_Course_base_gp)"
   ],
   "metadata": {
    "collapsed": false,
    "ExecuteTime": {
     "end_time": "2024-01-26T21:26:05.424963300Z",
     "start_time": "2024-01-26T21:26:05.352913Z"
    }
   },
   "id": "a52aa23b942a70a9",
   "execution_count": 294
  },
  {
   "cell_type": "code",
   "outputs": [
    {
     "data": {
      "text/plain": "Index(['姓名', '部门', '性别', '出生年月', '学历', '学位', '工作单位', '职称', '主讲教师', '年龄',\n       '政治面貌', '民族', '专业', '是否有教师资格证', '备注', '入职时间', '讲授课程', '所在专业', '承担教学工作量',\n       '序号'],\n      dtype='object')"
     },
     "execution_count": 295,
     "metadata": {},
     "output_type": "execute_result"
    }
   ],
   "source": [
    "\n",
    "baseTeach.columns"
   ],
   "metadata": {
    "collapsed": false,
    "ExecuteTime": {
     "end_time": "2024-01-26T21:26:05.427971Z",
     "start_time": "2024-01-26T21:26:05.399326400Z"
    }
   },
   "id": "b248c79ed9b502b3",
   "execution_count": 295
  },
  {
   "cell_type": "code",
   "outputs": [],
   "source": [],
   "metadata": {
    "collapsed": false,
    "ExecuteTime": {
     "end_time": "2024-01-26T21:26:05.470707Z",
     "start_time": "2024-01-26T21:26:05.414327Z"
    }
   },
   "id": "340b1ca786c6fa6e",
   "execution_count": 295
  },
  {
   "cell_type": "code",
   "outputs": [],
   "source": [
    "main_col =['序号','部门','姓名','性别','民族','年龄','学历', '学位','是否有教师资格证','专业','职称','讲授课程', '所在专业','主讲教师']\n",
    "prac_col = ['序号','部门','姓名','性别','民族','年龄','学历', '学位','是否有教师资格证','专业','职称','讲授课程','工作单位','主讲教师']\n",
    "base_col = ['序号','部门','姓名','性别','民族','年龄','学历', '学位','是否有教师资格证','专业','职称','讲授课程', '所在专业','主讲教师']\n",
    "mainTeach = mainTeach[main_col]\n",
    "pracTeach = pracTeach[prac_col]\n",
    "baseTeach = baseTeach[base_col]"
   ],
   "metadata": {
    "collapsed": false,
    "ExecuteTime": {
     "end_time": "2024-01-26T21:26:05.473706600Z",
     "start_time": "2024-01-26T21:26:05.426968600Z"
    }
   },
   "id": "9e083f772e0b4c57",
   "execution_count": 296
  },
  {
   "cell_type": "code",
   "outputs": [
    {
     "ename": "AttributeError",
     "evalue": "property 'book' of 'OpenpyxlWriter' object has no setter",
     "output_type": "error",
     "traceback": [
      "\u001B[1;31m---------------------------------------------------------------------------\u001B[0m",
      "\u001B[1;31mAttributeError\u001B[0m                            Traceback (most recent call last)",
      "Cell \u001B[1;32mIn[297], line 5\u001B[0m\n\u001B[0;32m      3\u001B[0m book \u001B[38;5;241m=\u001B[39m load_workbook(path)\n\u001B[0;32m      4\u001B[0m writer \u001B[38;5;241m=\u001B[39m pd\u001B[38;5;241m.\u001B[39mExcelWriter(path, engine\u001B[38;5;241m=\u001B[39m\u001B[38;5;124m'\u001B[39m\u001B[38;5;124mopenpyxl\u001B[39m\u001B[38;5;124m'\u001B[39m)\n\u001B[1;32m----> 5\u001B[0m \u001B[43mwriter\u001B[49m\u001B[38;5;241;43m.\u001B[39;49m\u001B[43mbook\u001B[49m \u001B[38;5;241m=\u001B[39m book\n\u001B[0;32m      6\u001B[0m \u001B[38;5;28;01mdef\u001B[39;00m \u001B[38;5;21mwrite2sheet\u001B[39m(sheet_name, df):\n\u001B[0;32m      7\u001B[0m        df\u001B[38;5;241m.\u001B[39mto_excel(writer, sheet_name\u001B[38;5;241m=\u001B[39msheet_name, startrow\u001B[38;5;241m=\u001B[39m\u001B[38;5;241m2\u001B[39m, index\u001B[38;5;241m=\u001B[39m\u001B[38;5;28;01mFalse\u001B[39;00m, header\u001B[38;5;241m=\u001B[39m\u001B[38;5;28;01mFalse\u001B[39;00m)\n",
      "\u001B[1;31mAttributeError\u001B[0m: property 'book' of 'OpenpyxlWriter' object has no setter"
     ]
    }
   ],
   "source": [
    "# todo 如何写入excel中\n",
    "from openpyxl import load_workbook\n",
    "path = '交通-2022-2023主讲教师.xlsx'\n",
    "book = load_workbook(path)\n",
    "writer = pd.ExcelWriter(path, engine='openpyxl')\n",
    "writer.book = book\n",
    "def write2sheet(sheet_name, df):\n",
    "       df.to_excel(writer, sheet_name=sheet_name, startrow=2, index=False, header=False)\n",
    "       writer.save()\n",
    "       writer.close()\n",
    "\n",
    "write2sheet( '专业课主讲教师一览表', mainTeach)\n",
    "write2sheet('实践性课程教师一览表', pracTeach)\n",
    "write2sheet('基础性课程主讲教师一览表', baseTeach)"
   ],
   "metadata": {
    "collapsed": false,
    "ExecuteTime": {
     "end_time": "2024-01-26T21:26:05.511210500Z",
     "start_time": "2024-01-26T21:26:05.440709900Z"
    }
   },
   "id": "2029ccdd283e3733",
   "execution_count": 297
  }
 ],
 "metadata": {
  "kernelspec": {
   "display_name": "Python 3",
   "language": "python",
   "name": "python3"
  },
  "language_info": {
   "codemirror_mode": {
    "name": "ipython",
    "version": 2
   },
   "file_extension": ".py",
   "mimetype": "text/x-python",
   "name": "python",
   "nbconvert_exporter": "python",
   "pygments_lexer": "ipython2",
   "version": "2.7.6"
  }
 },
 "nbformat": 4,
 "nbformat_minor": 5
}
