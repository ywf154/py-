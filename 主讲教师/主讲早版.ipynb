{
 "cells": [
  {
   "cell_type": "code",
   "execution_count": 1,
   "metadata": {},
   "outputs": [],
   "source": [
    "import pandas as pd\n",
    "import numpy as np"
   ]
  },
  {
   "cell_type": "code",
   "execution_count": 18,
   "metadata": {},
   "outputs": [
    {
     "data": {
      "text/html": [
       "<div>\n",
       "<style scoped>\n",
       "    .dataframe tbody tr th:only-of-type {\n",
       "        vertical-align: middle;\n",
       "    }\n",
       "\n",
       "    .dataframe tbody tr th {\n",
       "        vertical-align: top;\n",
       "    }\n",
       "\n",
       "    .dataframe thead th {\n",
       "        text-align: right;\n",
       "    }\n",
       "</style>\n",
       "<table border=\"1\" class=\"dataframe\">\n",
       "  <thead>\n",
       "    <tr style=\"text-align: right;\">\n",
       "      <th></th>\n",
       "      <th>专业名称*</th>\n",
       "      <th>专业代码*</th>\n",
       "      <th>专业层次*</th>\n",
       "      <th>学制*</th>\n",
       "      <th>培养方式*</th>\n",
       "      <th>具体形式*</th>\n",
       "      <th>生源类型*</th>\n",
       "      <th>年级*</th>\n",
       "      <th>课程名称*</th>\n",
       "      <th>课程代码*</th>\n",
       "      <th>...</th>\n",
       "      <th>开课单位名称*</th>\n",
       "      <th>是否校企合作开发课程*</th>\n",
       "      <th>合作企业名称*</th>\n",
       "      <th>精品在线开放课程*</th>\n",
       "      <th>是否课证融通课程*</th>\n",
       "      <th>是否网络教学课程*</th>\n",
       "      <th>课程思政示范课*</th>\n",
       "      <th>课程总学时（个）*</th>\n",
       "      <th>其中，实践教学学时（个）*</th>\n",
       "      <th>填报人</th>\n",
       "    </tr>\n",
       "  </thead>\n",
       "  <tbody>\n",
       "    <tr>\n",
       "      <th>0</th>\n",
       "      <td>智能控制技术</td>\n",
       "      <td>460303</td>\n",
       "      <td>高职专科</td>\n",
       "      <td>三年</td>\n",
       "      <td>普通班</td>\n",
       "      <td>NaN</td>\n",
       "      <td>社招</td>\n",
       "      <td>2021级</td>\n",
       "      <td>单片机与嵌入式系统</td>\n",
       "      <td>0406352004</td>\n",
       "      <td>...</td>\n",
       "      <td>信息与自动化学院（原智能工程学院（中国高科产业学院））</td>\n",
       "      <td>否</td>\n",
       "      <td>NaN</td>\n",
       "      <td>无</td>\n",
       "      <td>否</td>\n",
       "      <td>是</td>\n",
       "      <td>无</td>\n",
       "      <td>48</td>\n",
       "      <td>24</td>\n",
       "      <td>天府新区信息职业学院主账号</td>\n",
       "    </tr>\n",
       "  </tbody>\n",
       "</table>\n",
       "<p>1 rows × 26 columns</p>\n",
       "</div>"
      ],
      "text/plain": [
       "    专业名称*   专业代码* 专业层次* 学制* 培养方式* 具体形式* 生源类型*    年级*      课程名称*       课程代码*  \\\n",
       "0  智能控制技术  460303  高职专科  三年   普通班   NaN    社招  2021级  单片机与嵌入式系统  0406352004   \n",
       "\n",
       "   ...                      开课单位名称* 是否校企合作开发课程* 合作企业名称* 精品在线开放课程* 是否课证融通课程*  \\\n",
       "0  ...  信息与自动化学院（原智能工程学院（中国高科产业学院））           否     NaN         无         否   \n",
       "\n",
       "  是否网络教学课程* 课程思政示范课* 课程总学时（个）* 其中，实践教学学时（个）*            填报人  \n",
       "0         是        无        48            24  天府新区信息职业学院主账号  \n",
       "\n",
       "[1 rows x 26 columns]"
      ]
     },
     "execution_count": 18,
     "metadata": {},
     "output_type": "execute_result"
    }
   ],
   "source": [
    "pd.read_excel('1.3.1_高职课程设置表.xlsx').head(1)"
   ]
  },
  {
   "cell_type": "code",
   "execution_count": 19,
   "metadata": {},
   "outputs": [],
   "source": [
    "df = pd.read_excel('1.3.1_高职课程设置表.xlsx')\n"
   ]
  },
  {
   "cell_type": "code",
   "execution_count": 28,
   "metadata": {},
   "outputs": [
    {
     "data": {
      "text/plain": [
       "(187, 26)"
      ]
     },
     "execution_count": 28,
     "metadata": {},
     "output_type": "execute_result"
    }
   ],
   "source": [
    "selected_rows = df[df['开课单位名称*'] == '交通工程学院']\n",
    "selected_rows.shape"
   ]
  },
  {
   "cell_type": "code",
   "execution_count": 38,
   "metadata": {},
   "outputs": [
    {
     "data": {
      "text/html": [
       "<div>\n",
       "<style scoped>\n",
       "    .dataframe tbody tr th:only-of-type {\n",
       "        vertical-align: middle;\n",
       "    }\n",
       "\n",
       "    .dataframe tbody tr th {\n",
       "        vertical-align: top;\n",
       "    }\n",
       "\n",
       "    .dataframe thead th {\n",
       "        text-align: right;\n",
       "    }\n",
       "</style>\n",
       "<table border=\"1\" class=\"dataframe\">\n",
       "  <thead>\n",
       "    <tr style=\"text-align: right;\">\n",
       "      <th></th>\n",
       "      <th></th>\n",
       "      <th></th>\n",
       "      <th>课程类型*</th>\n",
       "      <th>课程属性*</th>\n",
       "      <th>专业（技能）课*</th>\n",
       "      <th>课程性质*</th>\n",
       "      <th>课程总学时（个）*</th>\n",
       "      <th>其中，实践教学学时（个）*</th>\n",
       "    </tr>\n",
       "    <tr>\n",
       "      <th>年级*</th>\n",
       "      <th>课程代码*</th>\n",
       "      <th>课程名称*</th>\n",
       "      <th></th>\n",
       "      <th></th>\n",
       "      <th></th>\n",
       "      <th></th>\n",
       "      <th></th>\n",
       "      <th></th>\n",
       "    </tr>\n",
       "  </thead>\n",
       "  <tbody>\n",
       "    <tr>\n",
       "      <th>2021级</th>\n",
       "      <th>305172003</th>\n",
       "      <th>应急处理实训</th>\n",
       "      <td>C类</td>\n",
       "      <td>专业（技能）课</td>\n",
       "      <td>实践性教学环节</td>\n",
       "      <td>必修课</td>\n",
       "      <td>24</td>\n",
       "      <td>24</td>\n",
       "    </tr>\n",
       "    <tr>\n",
       "      <th>2020级</th>\n",
       "      <th>0301372005</th>\n",
       "      <th>毕业设计（作品）</th>\n",
       "      <td>B类</td>\n",
       "      <td>专业（技能）课</td>\n",
       "      <td>实践性教学环节</td>\n",
       "      <td>必修课</td>\n",
       "      <td>48</td>\n",
       "      <td>24</td>\n",
       "    </tr>\n",
       "    <tr>\n",
       "      <th>2021级</th>\n",
       "      <th>0301362001</th>\n",
       "      <th>汽车生产企业见习</th>\n",
       "      <td>B类</td>\n",
       "      <td>专业（技能）课</td>\n",
       "      <td>专业拓展课</td>\n",
       "      <td>必修课</td>\n",
       "      <td>64</td>\n",
       "      <td>32</td>\n",
       "    </tr>\n",
       "    <tr>\n",
       "      <th>2022级</th>\n",
       "      <th>0302331004</th>\n",
       "      <th>汽车运用材料</th>\n",
       "      <td>A类</td>\n",
       "      <td>专业（技能）课</td>\n",
       "      <td>专业基础课</td>\n",
       "      <td>必修课</td>\n",
       "      <td>32</td>\n",
       "      <td>0</td>\n",
       "    </tr>\n",
       "    <tr>\n",
       "      <th>2020级</th>\n",
       "      <th>302162001</th>\n",
       "      <th>汽车专业职业素养</th>\n",
       "      <td>A类</td>\n",
       "      <td>专业（技能）课</td>\n",
       "      <td>专业拓展课</td>\n",
       "      <td>专业选修课</td>\n",
       "      <td>16</td>\n",
       "      <td>0</td>\n",
       "    </tr>\n",
       "  </tbody>\n",
       "</table>\n",
       "</div>"
      ],
      "text/plain": [
       "                          课程类型*    课程属性* 专业（技能）课*  课程性质*  课程总学时（个）*  \\\n",
       "年级*   课程代码*      课程名称*                                                \n",
       "2021级 305172003  应急处理实训      C类  专业（技能）课  实践性教学环节    必修课         24   \n",
       "2020级 0301372005 毕业设计（作品）    B类  专业（技能）课  实践性教学环节    必修课         48   \n",
       "2021级 0301362001 汽车生产企业见习    B类  专业（技能）课    专业拓展课    必修课         64   \n",
       "2022级 0302331004 汽车运用材料      A类  专业（技能）课    专业基础课    必修课         32   \n",
       "2020级 302162001  汽车专业职业素养    A类  专业（技能）课    专业拓展课  专业选修课         16   \n",
       "\n",
       "                           其中，实践教学学时（个）*  \n",
       "年级*   课程代码*      课程名称*                    \n",
       "2021级 305172003  应急处理实训               24  \n",
       "2020级 0301372005 毕业设计（作品）             24  \n",
       "2021级 0301362001 汽车生产企业见习             32  \n",
       "2022级 0302331004 汽车运用材料                0  \n",
       "2020级 302162001  汽车专业职业素养              0  "
      ]
     },
     "execution_count": 38,
     "metadata": {},
     "output_type": "execute_result"
    }
   ],
   "source": [
    "jtkc = selected_rows.set_index(['年级*','课程代码*','课程名称*'])\n",
    "jtkc = jtkc[['课程类型*', '课程属性*','专业（技能）课*',\n",
    "            '课程性质*','课程总学时（个）*', '其中，实践教学学时（个）*']]\n",
    "jtkc.head()"
   ]
  },
  {
   "cell_type": "code",
   "execution_count": 39,
   "metadata": {},
   "outputs": [],
   "source": [
    "jtkc['理论']=jtkc['课程总学时（个）*']-jtkc['其中，实践教学学时（个）*']"
   ]
  },
  {
   "cell_type": "code",
   "execution_count": 40,
   "metadata": {},
   "outputs": [
    {
     "data": {
      "text/html": [
       "<div>\n",
       "<style scoped>\n",
       "    .dataframe tbody tr th:only-of-type {\n",
       "        vertical-align: middle;\n",
       "    }\n",
       "\n",
       "    .dataframe tbody tr th {\n",
       "        vertical-align: top;\n",
       "    }\n",
       "\n",
       "    .dataframe thead th {\n",
       "        text-align: right;\n",
       "    }\n",
       "</style>\n",
       "<table border=\"1\" class=\"dataframe\">\n",
       "  <thead>\n",
       "    <tr style=\"text-align: right;\">\n",
       "      <th></th>\n",
       "      <th></th>\n",
       "      <th></th>\n",
       "      <th>课程类型*</th>\n",
       "      <th>课程属性*</th>\n",
       "      <th>专业（技能）课*</th>\n",
       "      <th>课程性质*</th>\n",
       "      <th>课程总学时（个）*</th>\n",
       "      <th>其中，实践教学学时（个）*</th>\n",
       "      <th>理论</th>\n",
       "    </tr>\n",
       "    <tr>\n",
       "      <th>年级*</th>\n",
       "      <th>课程代码*</th>\n",
       "      <th>课程名称*</th>\n",
       "      <th></th>\n",
       "      <th></th>\n",
       "      <th></th>\n",
       "      <th></th>\n",
       "      <th></th>\n",
       "      <th></th>\n",
       "      <th></th>\n",
       "    </tr>\n",
       "  </thead>\n",
       "  <tbody>\n",
       "    <tr>\n",
       "      <th>2021级</th>\n",
       "      <th>305172003</th>\n",
       "      <th>应急处理实训</th>\n",
       "      <td>C类</td>\n",
       "      <td>专业（技能）课</td>\n",
       "      <td>实践性教学环节</td>\n",
       "      <td>必修课</td>\n",
       "      <td>24</td>\n",
       "      <td>24</td>\n",
       "      <td>0</td>\n",
       "    </tr>\n",
       "    <tr>\n",
       "      <th>2020级</th>\n",
       "      <th>0301372005</th>\n",
       "      <th>毕业设计（作品）</th>\n",
       "      <td>B类</td>\n",
       "      <td>专业（技能）课</td>\n",
       "      <td>实践性教学环节</td>\n",
       "      <td>必修课</td>\n",
       "      <td>48</td>\n",
       "      <td>24</td>\n",
       "      <td>24</td>\n",
       "    </tr>\n",
       "    <tr>\n",
       "      <th>2021级</th>\n",
       "      <th>0301362001</th>\n",
       "      <th>汽车生产企业见习</th>\n",
       "      <td>B类</td>\n",
       "      <td>专业（技能）课</td>\n",
       "      <td>专业拓展课</td>\n",
       "      <td>必修课</td>\n",
       "      <td>64</td>\n",
       "      <td>32</td>\n",
       "      <td>32</td>\n",
       "    </tr>\n",
       "    <tr>\n",
       "      <th>2022级</th>\n",
       "      <th>0302331004</th>\n",
       "      <th>汽车运用材料</th>\n",
       "      <td>A类</td>\n",
       "      <td>专业（技能）课</td>\n",
       "      <td>专业基础课</td>\n",
       "      <td>必修课</td>\n",
       "      <td>32</td>\n",
       "      <td>0</td>\n",
       "      <td>32</td>\n",
       "    </tr>\n",
       "    <tr>\n",
       "      <th>2020级</th>\n",
       "      <th>302162001</th>\n",
       "      <th>汽车专业职业素养</th>\n",
       "      <td>A类</td>\n",
       "      <td>专业（技能）课</td>\n",
       "      <td>专业拓展课</td>\n",
       "      <td>专业选修课</td>\n",
       "      <td>16</td>\n",
       "      <td>0</td>\n",
       "      <td>16</td>\n",
       "    </tr>\n",
       "  </tbody>\n",
       "</table>\n",
       "</div>"
      ],
      "text/plain": [
       "                          课程类型*    课程属性* 专业（技能）课*  课程性质*  课程总学时（个）*  \\\n",
       "年级*   课程代码*      课程名称*                                                \n",
       "2021级 305172003  应急处理实训      C类  专业（技能）课  实践性教学环节    必修课         24   \n",
       "2020级 0301372005 毕业设计（作品）    B类  专业（技能）课  实践性教学环节    必修课         48   \n",
       "2021级 0301362001 汽车生产企业见习    B类  专业（技能）课    专业拓展课    必修课         64   \n",
       "2022级 0302331004 汽车运用材料      A类  专业（技能）课    专业基础课    必修课         32   \n",
       "2020级 302162001  汽车专业职业素养    A类  专业（技能）课    专业拓展课  专业选修课         16   \n",
       "\n",
       "                           其中，实践教学学时（个）*  理论  \n",
       "年级*   课程代码*      课程名称*                        \n",
       "2021级 305172003  应急处理实训               24   0  \n",
       "2020级 0301372005 毕业设计（作品）             24  24  \n",
       "2021级 0301362001 汽车生产企业见习             32  32  \n",
       "2022级 0302331004 汽车运用材料                0  32  \n",
       "2020级 302162001  汽车专业职业素养              0  16  "
      ]
     },
     "execution_count": 40,
     "metadata": {},
     "output_type": "execute_result"
    }
   ],
   "source": [
    "jtkc.head()"
   ]
  },
  {
   "cell_type": "code",
   "execution_count": 54,
   "metadata": {},
   "outputs": [
    {
     "data": {
      "text/plain": [
       "Index(['授课教师工号*', '授课教师姓名*', '教师类别*', '专业名称*', '专业代码*', '专业层次*', '学制*',\n",
       "       '培养方式*', '具体形式*', '生源类型*', '授课年级*', '课程名称*', '课程代码*', '授课学期*',\n",
       "       '开课单位名称*', '授课任务*', '班级名称*', '教学工作量（学时）*', '线上教学（学时）*', '填报人'],\n",
       "      dtype='object')"
      ]
     },
     "execution_count": 54,
     "metadata": {},
     "output_type": "execute_result"
    }
   ],
   "source": [
    "pd.read_excel('高职授课表.xlsx').columns"
   ]
  },
  {
   "cell_type": "code",
   "execution_count": 117,
   "metadata": {},
   "outputs": [],
   "source": [
    "tech = pd.read_excel('高职授课表.xlsx',usecols=['授课教师工号*', \n",
    "                                    '授课教师姓名*',\n",
    "                                      '教师类别*', \n",
    "                                     '课程代码*', '课程名称*',\n",
    "                                       '班级名称*', \n",
    "                                     '教学工作量（学时）*','开课单位名称*'])"
   ]
  },
  {
   "cell_type": "code",
   "execution_count": 118,
   "metadata": {},
   "outputs": [
    {
     "data": {
      "text/html": [
       "<div>\n",
       "<style scoped>\n",
       "    .dataframe tbody tr th:only-of-type {\n",
       "        vertical-align: middle;\n",
       "    }\n",
       "\n",
       "    .dataframe tbody tr th {\n",
       "        vertical-align: top;\n",
       "    }\n",
       "\n",
       "    .dataframe thead th {\n",
       "        text-align: right;\n",
       "    }\n",
       "</style>\n",
       "<table border=\"1\" class=\"dataframe\">\n",
       "  <thead>\n",
       "    <tr style=\"text-align: right;\">\n",
       "      <th></th>\n",
       "      <th>授课教师工号*</th>\n",
       "      <th>授课教师姓名*</th>\n",
       "      <th>教师类别*</th>\n",
       "      <th>课程名称*</th>\n",
       "      <th>课程代码*</th>\n",
       "      <th>开课单位名称*</th>\n",
       "      <th>班级名称*</th>\n",
       "      <th>教学工作量（学时）*</th>\n",
       "    </tr>\n",
       "  </thead>\n",
       "  <tbody>\n",
       "    <tr>\n",
       "      <th>0</th>\n",
       "      <td>D01041</td>\n",
       "      <td>李晓庆</td>\n",
       "      <td>专任教师</td>\n",
       "      <td>毛泽东思想和中国特色社会主义理论体系概论</td>\n",
       "      <td>01111002</td>\n",
       "      <td>马克思主义学院</td>\n",
       "      <td>2021级新能源7班,2021级新能源8班</td>\n",
       "      <td>32</td>\n",
       "    </tr>\n",
       "  </tbody>\n",
       "</table>\n",
       "</div>"
      ],
      "text/plain": [
       "  授课教师工号* 授课教师姓名* 教师类别*                 课程名称*     课程代码*  开课单位名称*  \\\n",
       "0  D01041     李晓庆  专任教师  毛泽东思想和中国特色社会主义理论体系概论  01111002  马克思主义学院   \n",
       "\n",
       "                   班级名称*  教学工作量（学时）*  \n",
       "0  2021级新能源7班,2021级新能源8班          32  "
      ]
     },
     "execution_count": 118,
     "metadata": {},
     "output_type": "execute_result"
    }
   ],
   "source": [
    "tech.head(1)"
   ]
  },
  {
   "cell_type": "code",
   "execution_count": 119,
   "metadata": {},
   "outputs": [],
   "source": [
    "teacher = tech.set_index('授课教师工号*')\n",
    "teachers = teacher[teacher['开课单位名称*'] =='交通工程学院']"
   ]
  },
  {
   "cell_type": "code",
   "execution_count": 120,
   "metadata": {},
   "outputs": [
    {
     "data": {
      "text/plain": [
       "Index(['授课教师姓名*', '教师类别*', '课程名称*', '课程代码*', '开课单位名称*', '班级名称*', '教学工作量（学时）*'], dtype='object')"
      ]
     },
     "execution_count": 120,
     "metadata": {},
     "output_type": "execute_result"
    }
   ],
   "source": [
    "teachers.columns"
   ]
  },
  {
   "cell_type": "code",
   "execution_count": 122,
   "metadata": {},
   "outputs": [
    {
     "data": {
      "text/plain": [
       "(59,)"
      ]
     },
     "execution_count": 122,
     "metadata": {},
     "output_type": "execute_result"
    }
   ],
   "source": [
    "teachers['授课教师姓名*'].drop_duplicates().shape"
   ]
  },
  {
   "cell_type": "code",
   "execution_count": 123,
   "metadata": {},
   "outputs": [
    {
     "data": {
      "text/plain": [
       "Index(['课程类型*', '课程属性*', '专业（技能）课*', '课程性质*', '课程总学时（个）*', '其中，实践教学学时（个）*',\n",
       "       '理论'],\n",
       "      dtype='object')"
      ]
     },
     "execution_count": 123,
     "metadata": {},
     "output_type": "execute_result"
    }
   ],
   "source": [
    "jtkc.head().columns"
   ]
  },
  {
   "cell_type": "code",
   "execution_count": 126,
   "metadata": {},
   "outputs": [],
   "source": [
    "jt_tcer = pd.merge(teachers,jtkc,on=['课程代码*'],how='right').sort_values('授课教师姓名*')\n",
    "# pd.merge(left=teachers,right=jtkc,on=['key1','key2'],how='inner')"
   ]
  },
  {
   "cell_type": "code",
   "execution_count": 125,
   "metadata": {},
   "outputs": [
    {
     "data": {
      "text/html": [
       "<div>\n",
       "<style scoped>\n",
       "    .dataframe tbody tr th:only-of-type {\n",
       "        vertical-align: middle;\n",
       "    }\n",
       "\n",
       "    .dataframe tbody tr th {\n",
       "        vertical-align: top;\n",
       "    }\n",
       "\n",
       "    .dataframe thead th {\n",
       "        text-align: right;\n",
       "    }\n",
       "</style>\n",
       "<table border=\"1\" class=\"dataframe\">\n",
       "  <thead>\n",
       "    <tr style=\"text-align: right;\">\n",
       "      <th></th>\n",
       "      <th>授课教师姓名*</th>\n",
       "      <th>教师类别*</th>\n",
       "      <th>课程名称*</th>\n",
       "      <th>课程代码*</th>\n",
       "      <th>开课单位名称*</th>\n",
       "      <th>班级名称*</th>\n",
       "      <th>教学工作量（学时）*</th>\n",
       "      <th>课程类型*</th>\n",
       "      <th>课程属性*</th>\n",
       "      <th>专业（技能）课*</th>\n",
       "      <th>课程性质*</th>\n",
       "      <th>课程总学时（个）*</th>\n",
       "      <th>其中，实践教学学时（个）*</th>\n",
       "      <th>理论</th>\n",
       "    </tr>\n",
       "  </thead>\n",
       "  <tbody>\n",
       "    <tr>\n",
       "      <th>300</th>\n",
       "      <td>于志刚</td>\n",
       "      <td>行业导师</td>\n",
       "      <td>毕业教育</td>\n",
       "      <td>301172006</td>\n",
       "      <td>交通工程学院</td>\n",
       "      <td>2020级新能源6班</td>\n",
       "      <td>4</td>\n",
       "      <td>B类</td>\n",
       "      <td>专业（技能）课</td>\n",
       "      <td>实践性教学环节</td>\n",
       "      <td>必修课</td>\n",
       "      <td>12</td>\n",
       "      <td>6</td>\n",
       "      <td>6</td>\n",
       "    </tr>\n",
       "    <tr>\n",
       "      <th>605</th>\n",
       "      <td>何效先</td>\n",
       "      <td>校外教师</td>\n",
       "      <td>汽车营销实务</td>\n",
       "      <td>0301152007</td>\n",
       "      <td>交通工程学院</td>\n",
       "      <td>2020级新能源1班</td>\n",
       "      <td>12</td>\n",
       "      <td>B类</td>\n",
       "      <td>专业（技能）课</td>\n",
       "      <td>专业拓展课</td>\n",
       "      <td>专业选修课</td>\n",
       "      <td>32</td>\n",
       "      <td>16</td>\n",
       "      <td>16</td>\n",
       "    </tr>\n",
       "    <tr>\n",
       "      <th>191</th>\n",
       "      <td>何瑾睿</td>\n",
       "      <td>校外教师</td>\n",
       "      <td>新能源汽车常见故障诊断与排除</td>\n",
       "      <td>301172002</td>\n",
       "      <td>交通工程学院</td>\n",
       "      <td>2021级新能源4班</td>\n",
       "      <td>48</td>\n",
       "      <td>C类</td>\n",
       "      <td>专业（技能）课</td>\n",
       "      <td>实践性教学环节</td>\n",
       "      <td>必修课</td>\n",
       "      <td>48</td>\n",
       "      <td>48</td>\n",
       "      <td>0</td>\n",
       "    </tr>\n",
       "    <tr>\n",
       "      <th>570</th>\n",
       "      <td>刘建</td>\n",
       "      <td>专任教师</td>\n",
       "      <td>汽车电器构造与检修</td>\n",
       "      <td>0302331007</td>\n",
       "      <td>交通工程学院</td>\n",
       "      <td>22级扩招汽车检测与维修技术1班</td>\n",
       "      <td>48</td>\n",
       "      <td>B类</td>\n",
       "      <td>专业（技能）课</td>\n",
       "      <td>专业基础课</td>\n",
       "      <td>必修课</td>\n",
       "      <td>48</td>\n",
       "      <td>24</td>\n",
       "      <td>24</td>\n",
       "    </tr>\n",
       "    <tr>\n",
       "      <th>27</th>\n",
       "      <td>刘建</td>\n",
       "      <td>专任教师</td>\n",
       "      <td>新能源汽车高压安全与防护</td>\n",
       "      <td>0301341004</td>\n",
       "      <td>交通工程学院</td>\n",
       "      <td>21级扩招新能源汽车技术</td>\n",
       "      <td>32</td>\n",
       "      <td>B类</td>\n",
       "      <td>专业（技能）课</td>\n",
       "      <td>专业核心课</td>\n",
       "      <td>必修课</td>\n",
       "      <td>32</td>\n",
       "      <td>16</td>\n",
       "      <td>16</td>\n",
       "    </tr>\n",
       "  </tbody>\n",
       "</table>\n",
       "</div>"
      ],
      "text/plain": [
       "    授课教师姓名* 教师类别*           课程名称*       课程代码* 开课单位名称*             班级名称*  \\\n",
       "300     于志刚  行业导师            毕业教育   301172006  交通工程学院        2020级新能源6班   \n",
       "605     何效先  校外教师          汽车营销实务  0301152007  交通工程学院        2020级新能源1班   \n",
       "191     何瑾睿  校外教师  新能源汽车常见故障诊断与排除   301172002  交通工程学院        2021级新能源4班   \n",
       "570      刘建  专任教师       汽车电器构造与检修  0302331007  交通工程学院  22级扩招汽车检测与维修技术1班   \n",
       "27       刘建  专任教师    新能源汽车高压安全与防护  0301341004  交通工程学院      21级扩招新能源汽车技术   \n",
       "\n",
       "     教学工作量（学时）* 课程类型*    课程属性* 专业（技能）课*  课程性质*  课程总学时（个）*  其中，实践教学学时（个）*  理论  \n",
       "300           4    B类  专业（技能）课  实践性教学环节    必修课         12              6   6  \n",
       "605          12    B类  专业（技能）课    专业拓展课  专业选修课         32             16  16  \n",
       "191          48    C类  专业（技能）课  实践性教学环节    必修课         48             48   0  \n",
       "570          48    B类  专业（技能）课    专业基础课    必修课         48             24  24  \n",
       "27           32    B类  专业（技能）课    专业核心课    必修课         32             16  16  "
      ]
     },
     "execution_count": 125,
     "metadata": {},
     "output_type": "execute_result"
    }
   ],
   "source": [
    "jt_tcer.head()"
   ]
  },
  {
   "cell_type": "code",
   "execution_count": null,
   "metadata": {},
   "outputs": [],
   "source": [
    "result = jt_tcerr['授课教师姓名'].groupby('授课教师姓名')['课程名称'].agg(lambda x: '、'.join(x)).reset_index()\n",
    "print(result)"
   ]
  },
  {
   "cell_type": "code",
   "execution_count": null,
   "metadata": {},
   "outputs": [],
   "source": []
  }
 ],
 "metadata": {
  "kernelspec": {
   "display_name": "Python 3",
   "language": "python",
   "name": "python3"
  },
  "language_info": {
   "codemirror_mode": {
    "name": "ipython",
    "version": 3
   },
   "file_extension": ".py",
   "mimetype": "text/x-python",
   "name": "python",
   "nbconvert_exporter": "python",
   "pygments_lexer": "ipython3",
   "version": "3.12.0"
  }
 },
 "nbformat": 4,
 "nbformat_minor": 2
}
