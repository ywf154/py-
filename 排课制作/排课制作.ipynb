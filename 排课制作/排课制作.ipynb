{
 "cells": [
  {
   "cell_type": "code",
   "execution_count": 49,
   "id": "initial_id",
   "metadata": {
    "collapsed": true,
    "ExecuteTime": {
     "end_time": "2024-01-30T08:26:35.233406300Z",
     "start_time": "2024-01-30T08:26:34.989184800Z"
    }
   },
   "outputs": [],
   "source": [
    "import pandas as pd\n",
    "path = r'C:\\Users\\yi\\Desktop\\办公自动\\教学安排\\【教学安排】2023-2024学年第二学期.xlsx'\n",
    "xls_schele = pd.ExcelFile(path)\n",
    "df = pd.read_excel(path,sheet_name=xls_schele.sheet_names[1])"
   ]
  },
  {
   "cell_type": "code",
   "outputs": [
    {
     "data": {
      "text/plain": "29      -2班\n30      -4班\n31      -6班\n32      -8班\n33     -10班\n       ... \n325      4班\n331      2班\n332      4班\n333      2班\n334      4班\nName: 班级, Length: 126, dtype: object"
     },
     "execution_count": 56,
     "metadata": {},
     "output_type": "execute_result"
    }
   ],
   "source": [
    "heBan = df[df['班级'].str.contains('-').fillna(False)]\n",
    "heBan['班级'].str.split('-', expand=True)\n",
    "heBan['班级'].str.slice(6).str.slice(1)"
   ],
   "metadata": {
    "collapsed": false,
    "ExecuteTime": {
     "end_time": "2024-01-30T08:32:43.470453Z",
     "start_time": "2024-01-30T08:32:43.433400200Z"
    }
   },
   "id": "2a1733beafbceb25",
   "execution_count": 56
  },
  {
   "cell_type": "code",
   "outputs": [],
   "source": [],
   "metadata": {
    "collapsed": false,
    "ExecuteTime": {
     "end_time": "2024-01-30T08:26:35.313283Z",
     "start_time": "2024-01-30T08:26:35.267249700Z"
    }
   },
   "id": "5b940e8e759e650b",
   "execution_count": 50
  }
 ],
 "metadata": {
  "kernelspec": {
   "display_name": "Python 3",
   "language": "python",
   "name": "python3"
  },
  "language_info": {
   "codemirror_mode": {
    "name": "ipython",
    "version": 2
   },
   "file_extension": ".py",
   "mimetype": "text/x-python",
   "name": "python",
   "nbconvert_exporter": "python",
   "pygments_lexer": "ipython2",
   "version": "2.7.6"
  }
 },
 "nbformat": 4,
 "nbformat_minor": 5
}
