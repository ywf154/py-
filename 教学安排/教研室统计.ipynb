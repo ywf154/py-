{
 "cells": [
  {
   "cell_type": "code",
   "execution_count": 145,
   "metadata": {},
   "outputs": [],
   "source": [
    "import pandas as pd\n",
    "import numpy as np\n",
    "# 打开 Excel 文件\n",
    "path_schele = '【教学安排】2023-2024学年第二学期.xlsx'\n",
    "xls_schele = pd.ExcelFile(path_schele)\n",
    "# 获取所有工作表名称\n",
    "sheet_names_schele = xls_schele.sheet_names\n",
    "# 形成df\n",
    "s_schele = pd.read_excel(path_schele,sheet_name='课程安排初版')\n",
    "s_schele['教师'] = s_schele['教师'].replace(np.nan,'无')"
   ]
  },
  {
   "cell_type": "code",
   "execution_count": 146,
   "metadata": {},
   "outputs": [],
   "source": [
    "def unqitxtjoin(row):\n",
    "    return '、'.join(row.unique())\n",
    "def getSubject(row):\n",
    "    return '交通运输教研室' if row.isin(['城市轨道交通运营管理','高速铁路客运服务']).any() else '汽车教研室'\n",
    "\n",
    "rooms= s_schele.groupby(['课程名称', '年级']).agg({\n",
    "    '教师':unqitxtjoin,\n",
    "    '备注':getSubject\n",
    "}).reset_index()\n",
    "rooms.columns = ['课程', '年级', '教师团队', '教研室']\n",
    "rooms = rooms[['教研室', '年级', '课程', '教师团队']]"
   ]
  },
  {
   "cell_type": "code",
   "execution_count": 147,
   "metadata": {},
   "outputs": [
    {
     "data": {
      "text/html": [
       "<div>\n",
       "<style scoped>\n",
       "    .dataframe tbody tr th:only-of-type {\n",
       "        vertical-align: middle;\n",
       "    }\n",
       "\n",
       "    .dataframe tbody tr th {\n",
       "        vertical-align: top;\n",
       "    }\n",
       "\n",
       "    .dataframe thead th {\n",
       "        text-align: right;\n",
       "    }\n",
       "</style>\n",
       "<table border=\"1\" class=\"dataframe\">\n",
       "  <thead>\n",
       "    <tr style=\"text-align: right;\">\n",
       "      <th></th>\n",
       "      <th>教研室</th>\n",
       "      <th>年级</th>\n",
       "      <th>课程</th>\n",
       "      <th>教师团队</th>\n",
       "    </tr>\n",
       "  </thead>\n",
       "  <tbody>\n",
       "    <tr>\n",
       "      <th>0</th>\n",
       "      <td>交通运输教研室</td>\n",
       "      <td>23级</td>\n",
       "      <td>城市轨道交通电工电子技术</td>\n",
       "      <td>杨益州</td>\n",
       "    </tr>\n",
       "    <tr>\n",
       "      <th>1</th>\n",
       "      <td>汽车教研室</td>\n",
       "      <td>23级</td>\n",
       "      <td>C语言程序设计</td>\n",
       "      <td>陈修平</td>\n",
       "    </tr>\n",
       "  </tbody>\n",
       "</table>\n",
       "</div>"
      ],
      "text/plain": [
       "       教研室   年级            课程 教师团队\n",
       "0  交通运输教研室  23级  城市轨道交通电工电子技术  杨益州\n",
       "1    汽车教研室  23级       C语言程序设计  陈修平"
      ]
     },
     "execution_count": 147,
     "metadata": {},
     "output_type": "execute_result"
    }
   ],
   "source": [
    "rooms = rooms.sort_values(by=['教研室','年级'],ascending=[0,0])"
   ]
  },
  {
   "cell_type": "code",
   "execution_count": null,
   "metadata": {},
   "outputs": [],
   "source": []
  },
  {
   "cell_type": "code",
   "execution_count": null,
   "metadata": {},
   "outputs": [],
   "source": []
  }
 ],
 "metadata": {
  "kernelspec": {
   "display_name": "Python 3",
   "language": "python",
   "name": "python3"
  },
  "language_info": {
   "codemirror_mode": {
    "name": "ipython",
    "version": 3
   },
   "file_extension": ".py",
   "mimetype": "text/x-python",
   "name": "python",
   "nbconvert_exporter": "python",
   "pygments_lexer": "ipython3",
   "version": "3.12.0"
  }
 },
 "nbformat": 4,
 "nbformat_minor": 2
}
