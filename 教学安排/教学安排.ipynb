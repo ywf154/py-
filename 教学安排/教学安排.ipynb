{
 "cells": [
  {
   "cell_type": "code",
   "execution_count": 2,
   "metadata": {
    "ExecuteTime": {
     "end_time": "2024-01-30T07:18:57.025710900Z",
     "start_time": "2024-01-30T07:18:56.646796500Z"
    }
   },
   "outputs": [
    {
     "data": {
      "text/plain": "['开课计划', '课程安排初版', '统计']"
     },
     "execution_count": 2,
     "metadata": {},
     "output_type": "execute_result"
    }
   ],
   "source": [
    "import pandas as pd\n",
    "# 打开 Excel 文件\n",
    "path_schele = '【教学安排】2023-2024学年第二学期.xlsx'\n",
    "xls_schele = pd.ExcelFile(path_schele)\n",
    "# 获取所有工作表名称\n",
    "sheet_names_schele = xls_schele.sheet_names\n",
    "# 形成df\n",
    "s_schele = pd.read_excel(path_schele,sheet_name='课程安排初版')\n",
    "s_schele['课程简称'] = s_schele['课程简称'] + s_schele['周次']\n",
    "weektime = s_schele.groupby(['教师', '周次'])['周课时'].sum().unstack()\n",
    "weektime.reset_index(inplace=True)\n",
    "sheet_names_schele"
   ]
  },
  {
   "cell_type": "code",
   "execution_count": 13,
   "metadata": {
    "collapsed": false,
    "ExecuteTime": {
     "end_time": "2024-01-30T07:19:11.235278500Z",
     "start_time": "2024-01-30T07:19:11.165264Z"
    }
   },
   "outputs": [],
   "source": [
    "# weektime"
   ]
  },
  {
   "cell_type": "code",
   "execution_count": 4,
   "metadata": {
    "collapsed": false,
    "ExecuteTime": {
     "end_time": "2024-01-30T07:18:57.224563Z",
     "start_time": "2024-01-30T07:18:57.110226700Z"
    }
   },
   "outputs": [],
   "source": [
    "def weekcourse(Name):\n",
    "    return pd.to_numeric(s_schele[s_schele['教师'] == Name]['周课时'], errors='coerce').sum()\n",
    "# weekcourse函数定义了一个名为weekcourse的函数，接受一个参数Name。这个函数的作用是从s_schele DataFrame中筛选出教师名字与Name匹配的行，并提取这些行中的周课时数据。然后，通过pd.to_numeric函数将这些数据转换为数值类型，并使用errors='coerce'参数处理无法转换的值（将其转换为NaN）。最后，使用sum()方法计算转换后的数值的总和，并返回结果。\n",
    "def get_course_count(Name):\n",
    "    return len(s_schele[s_schele['教师'] == Name]['课程名称'].unique())\n",
    "def txtjoin(row):\n",
    "    return '、'.join(row.unique())\n",
    "def get_course(Name):\n",
    "    return s_schele[s_schele['教师'] == Name]['课程简称'].agg(txtjoin)\n",
    "def get_weektime12(Name):\n",
    "    return weektime[weektime['教师'] == Name]['1--12'].sum()\n",
    "def get_weektime13(Name):\n",
    "    return weektime[weektime['教师'] == Name]['13--16'].sum()\n",
    "def get_weektime16(Name):\n",
    "    return weektime[weektime['教师'] == Name]['1--16'].sum()"
   ]
  },
  {
   "cell_type": "code",
   "execution_count": 5,
   "metadata": {
    "collapsed": false,
    "ExecuteTime": {
     "end_time": "2024-01-30T07:18:57.227558300Z",
     "start_time": "2024-01-30T07:18:57.139101300Z"
    }
   },
   "outputs": [],
   "source": [
    "Name = '杨登静'"
   ]
  },
  {
   "cell_type": "code",
   "execution_count": 6,
   "metadata": {
    "ExecuteTime": {
     "end_time": "2024-01-30T07:18:57.317559800Z",
     "start_time": "2024-01-30T07:18:57.177611900Z"
    }
   },
   "outputs": [],
   "source": [
    "check = pd.DataFrame({'教师':s_schele['教师'].unique()})"
   ]
  },
  {
   "cell_type": "code",
   "execution_count": 7,
   "metadata": {
    "collapsed": false,
    "ExecuteTime": {
     "end_time": "2024-01-30T07:18:57.493103500Z",
     "start_time": "2024-01-30T07:18:57.238562400Z"
    }
   },
   "outputs": [
    {
     "name": "stderr",
     "output_type": "stream",
     "text": [
      "C:\\Users\\yi\\AppData\\Local\\Temp\\ipykernel_12476\\2003161248.py:9: FutureWarning: using <function txtjoin at 0x00000238BDFCA020> in Series.agg cannot aggregate and has been deprecated. Use Series.transform to keep behavior unchanged.\n",
      "  return s_schele[s_schele['教师'] == Name]['课程简称'].agg(txtjoin)\n"
     ]
    }
   ],
   "source": [
    "check['课头数'] = check['教师'].apply(get_course_count)\n",
    "check['课程'] = check['教师'].apply(get_course)\n",
    "check['周课时1-12w'] = check['教师'].apply(get_weektime12)+check['教师'].apply(get_weektime16)\n",
    "check['周课时13-16w'] = check['教师'].apply(get_weektime13)+check['教师'].apply(get_weektime16)\n",
    "check['周课时'] = check[['周课时1-12w', '周课时13-16w']].max(axis=1)"
   ]
  },
  {
   "cell_type": "code",
   "execution_count": 8,
   "metadata": {
    "collapsed": false,
    "ExecuteTime": {
     "end_time": "2024-01-30T07:18:57.613565100Z",
     "start_time": "2024-01-30T07:18:57.474108500Z"
    }
   },
   "outputs": [
    {
     "data": {
      "text/plain": "     教师  课头数                                       课程  周课时1-12w  周课时13-16w  \\\n22  杨登静    2  电机实践1--16、电机理论1--16、混动实践1--16、混动理论1--16      28.0       28.0   \n\n     周课时  \n22  28.0  ",
      "text/html": "<div>\n<style scoped>\n    .dataframe tbody tr th:only-of-type {\n        vertical-align: middle;\n    }\n\n    .dataframe tbody tr th {\n        vertical-align: top;\n    }\n\n    .dataframe thead th {\n        text-align: right;\n    }\n</style>\n<table border=\"1\" class=\"dataframe\">\n  <thead>\n    <tr style=\"text-align: right;\">\n      <th></th>\n      <th>教师</th>\n      <th>课头数</th>\n      <th>课程</th>\n      <th>周课时1-12w</th>\n      <th>周课时13-16w</th>\n      <th>周课时</th>\n    </tr>\n  </thead>\n  <tbody>\n    <tr>\n      <th>22</th>\n      <td>杨登静</td>\n      <td>2</td>\n      <td>电机实践1--16、电机理论1--16、混动实践1--16、混动理论1--16</td>\n      <td>28.0</td>\n      <td>28.0</td>\n      <td>28.0</td>\n    </tr>\n  </tbody>\n</table>\n</div>"
     },
     "execution_count": 8,
     "metadata": {},
     "output_type": "execute_result"
    }
   ],
   "source": [
    "check.dropna(inplace=True)\n",
    "check[check['教师']==Name]"
   ]
  },
  {
   "cell_type": "code",
   "execution_count": 9,
   "metadata": {
    "ExecuteTime": {
     "end_time": "2024-01-30T07:18:58.095533100Z",
     "start_time": "2024-01-30T07:18:57.547564Z"
    }
   },
   "outputs": [],
   "source": [
    "duli = s_schele\n",
    "s_schele.groupby('班级')['周课时'].sum().to_excel('班级.xlsx')"
   ]
  },
  {
   "cell_type": "code",
   "execution_count": 10,
   "metadata": {
    "collapsed": false,
    "ExecuteTime": {
     "end_time": "2024-01-30T07:18:58.279239400Z",
     "start_time": "2024-01-30T07:18:58.099532600Z"
    }
   },
   "outputs": [
    {
     "data": {
      "text/plain": "     教师  课头数                                       课程  周课时1-12w  周课时13-16w  \\\n22  杨登静    2  电机实践1--16、电机理论1--16、混动实践1--16、混动理论1--16      28.0       28.0   \n\n     周课时  \n22  28.0  ",
      "text/html": "<div>\n<style scoped>\n    .dataframe tbody tr th:only-of-type {\n        vertical-align: middle;\n    }\n\n    .dataframe tbody tr th {\n        vertical-align: top;\n    }\n\n    .dataframe thead th {\n        text-align: right;\n    }\n</style>\n<table border=\"1\" class=\"dataframe\">\n  <thead>\n    <tr style=\"text-align: right;\">\n      <th></th>\n      <th>教师</th>\n      <th>课头数</th>\n      <th>课程</th>\n      <th>周课时1-12w</th>\n      <th>周课时13-16w</th>\n      <th>周课时</th>\n    </tr>\n  </thead>\n  <tbody>\n    <tr>\n      <th>22</th>\n      <td>杨登静</td>\n      <td>2</td>\n      <td>电机实践1--16、电机理论1--16、混动实践1--16、混动理论1--16</td>\n      <td>28.0</td>\n      <td>28.0</td>\n      <td>28.0</td>\n    </tr>\n  </tbody>\n</table>\n</div>"
     },
     "execution_count": 10,
     "metadata": {},
     "output_type": "execute_result"
    }
   ],
   "source": [
    "# check.set_index('教师',inplace=True)\n",
    "# check['课头数'].sort_values(ascending=False)\n",
    "check[check['教师'] ==Name]"
   ]
  },
  {
   "cell_type": "code",
   "execution_count": 11,
   "metadata": {
    "collapsed": false,
    "ExecuteTime": {
     "end_time": "2024-01-30T07:18:58.498350400Z",
     "start_time": "2024-01-30T07:18:58.259242700Z"
    }
   },
   "outputs": [
    {
     "data": {
      "text/plain": "      教师  课头数                                                 课程  周课时1-12w  \\\n0     龚粮    3  机械实践1--12、机械理论1--12、金工实训13--16、经法理论1--16、经法理实1...      20.0   \n1     王乙    3          机械实践1--12、机械理论1--12、金工实训13--16、单片机理实1--16      26.0   \n2    李双希    4  机械实践1--12、机械理论1--12、金工实训13--16、安全实践1--16、安全理论1...      24.0   \n3    杨婷宇    3             机械实践1--12、机械理论1--12、材料1--16、金工实训13--16      26.0   \n4     杨洋    2                     机械实践1--12、机械理论1--12、金工实训13--16      22.0   \n5    邹明海    2                        构造实践1--16、构造理论1--16、材料1--16      28.0   \n6     赵轲    2                        构造实践1--16、构造理论1--16、美容1--16      24.0   \n7     文莉    2                      构造实践1--16、构造理论1--16、装配实践1--16      24.0   \n8    刘茂岭    2                      构造实践1--16、构造理论1--16、装配实践1--16      24.0   \n9    叶嗣玲    2                        构造实践1--16、构造理论1--16、材料1--16      26.0   \n10   段丽萍    1                                            材料1--16       4.0   \n11  李云朵朵    4      材料1--16、铁路安全1--16、信号1--16、行车实践1--16、行车理论1--16      28.0   \n12   陈修平    1                                         C语言理实1--16       2.0   \n13    刘婧    4             金工实训13--16、美容1--16、餐饮服务1--16、应急实训1--12      22.0   \n15   邓莉军    4           普通话理实1--16、专英理实1--16、旅客心理1--16、沟通技巧1--16      20.0   \n16   江雁秋    2                                急救理实1--16、客服业务1--16      18.0   \n17    陈琳    4  安检实训1--12、客运实践1--16、客运理论1--16、综合实训13--16、应急实训1...      22.0   \n18   杜明艳    4  安检实训1--12、站场实践1--12、站场理论1--12、综合实训13--16、客运实训1...      22.0   \n19   杨益州    3  电工实践1--16、电工理论1--16、调度实践1--12、调度理论1--12、行车理实1--16      28.0   \n20    杨飞    1                                电机实践1--16、电机理论1--16       8.0   \n21    王毅    2                     电机实践1--16、电机理论1--16、车联网理实1--16      20.0   \n22   杨登静    2            电机实践1--16、电机理论1--16、混动实践1--16、混动理论1--16      28.0   \n23   陈湘兰    2            电机实践1--16、电机理论1--16、装配实践1--16、装配理论1--16      26.0   \n24   罗国晖    2            电机实践1--16、电机理论1--16、混动实践1--16、混动理论1--16      24.0   \n25   范灵利    2                        混动实践1--16、混动理论1--16、概论1--16      28.0   \n26   刘洪良    1                                装配实践1--16、装配理论1--16      24.0   \n27   刘玲芝    2                   新技术1--16、维修接待理论1--16、维修接待实践1--16      24.0   \n28    张胜    1                              车载网理论1--16、车载网实践1--16       6.0   \n29    杨军    1                                电控理论1--16、电控实践1--16       6.0   \n30   肖华钰    1                                          线控理实1--16       4.0   \n\n    周课时13-16w   周课时  \n0        20.0  20.0  \n1        22.0  26.0  \n2        22.0  24.0  \n3        20.0  26.0  \n4        18.0  22.0  \n5        28.0  28.0  \n6        24.0  24.0  \n7        24.0  24.0  \n8        24.0  24.0  \n9        26.0  26.0  \n10        4.0   4.0  \n11       28.0  28.0  \n12        2.0   2.0  \n13       28.0  28.0  \n15       20.0  20.0  \n16       18.0  18.0  \n17       24.0  24.0  \n18       18.0  22.0  \n19       16.0  28.0  \n20        8.0   8.0  \n21       20.0  20.0  \n22       28.0  28.0  \n23       26.0  26.0  \n24       24.0  24.0  \n25       28.0  28.0  \n26       24.0  24.0  \n27       24.0  24.0  \n28        6.0   6.0  \n29        6.0   6.0  \n30        4.0   4.0  ",
      "text/html": "<div>\n<style scoped>\n    .dataframe tbody tr th:only-of-type {\n        vertical-align: middle;\n    }\n\n    .dataframe tbody tr th {\n        vertical-align: top;\n    }\n\n    .dataframe thead th {\n        text-align: right;\n    }\n</style>\n<table border=\"1\" class=\"dataframe\">\n  <thead>\n    <tr style=\"text-align: right;\">\n      <th></th>\n      <th>教师</th>\n      <th>课头数</th>\n      <th>课程</th>\n      <th>周课时1-12w</th>\n      <th>周课时13-16w</th>\n      <th>周课时</th>\n    </tr>\n  </thead>\n  <tbody>\n    <tr>\n      <th>0</th>\n      <td>龚粮</td>\n      <td>3</td>\n      <td>机械实践1--12、机械理论1--12、金工实训13--16、经法理论1--16、经法理实1...</td>\n      <td>20.0</td>\n      <td>20.0</td>\n      <td>20.0</td>\n    </tr>\n    <tr>\n      <th>1</th>\n      <td>王乙</td>\n      <td>3</td>\n      <td>机械实践1--12、机械理论1--12、金工实训13--16、单片机理实1--16</td>\n      <td>26.0</td>\n      <td>22.0</td>\n      <td>26.0</td>\n    </tr>\n    <tr>\n      <th>2</th>\n      <td>李双希</td>\n      <td>4</td>\n      <td>机械实践1--12、机械理论1--12、金工实训13--16、安全实践1--16、安全理论1...</td>\n      <td>24.0</td>\n      <td>22.0</td>\n      <td>24.0</td>\n    </tr>\n    <tr>\n      <th>3</th>\n      <td>杨婷宇</td>\n      <td>3</td>\n      <td>机械实践1--12、机械理论1--12、材料1--16、金工实训13--16</td>\n      <td>26.0</td>\n      <td>20.0</td>\n      <td>26.0</td>\n    </tr>\n    <tr>\n      <th>4</th>\n      <td>杨洋</td>\n      <td>2</td>\n      <td>机械实践1--12、机械理论1--12、金工实训13--16</td>\n      <td>22.0</td>\n      <td>18.0</td>\n      <td>22.0</td>\n    </tr>\n    <tr>\n      <th>5</th>\n      <td>邹明海</td>\n      <td>2</td>\n      <td>构造实践1--16、构造理论1--16、材料1--16</td>\n      <td>28.0</td>\n      <td>28.0</td>\n      <td>28.0</td>\n    </tr>\n    <tr>\n      <th>6</th>\n      <td>赵轲</td>\n      <td>2</td>\n      <td>构造实践1--16、构造理论1--16、美容1--16</td>\n      <td>24.0</td>\n      <td>24.0</td>\n      <td>24.0</td>\n    </tr>\n    <tr>\n      <th>7</th>\n      <td>文莉</td>\n      <td>2</td>\n      <td>构造实践1--16、构造理论1--16、装配实践1--16</td>\n      <td>24.0</td>\n      <td>24.0</td>\n      <td>24.0</td>\n    </tr>\n    <tr>\n      <th>8</th>\n      <td>刘茂岭</td>\n      <td>2</td>\n      <td>构造实践1--16、构造理论1--16、装配实践1--16</td>\n      <td>24.0</td>\n      <td>24.0</td>\n      <td>24.0</td>\n    </tr>\n    <tr>\n      <th>9</th>\n      <td>叶嗣玲</td>\n      <td>2</td>\n      <td>构造实践1--16、构造理论1--16、材料1--16</td>\n      <td>26.0</td>\n      <td>26.0</td>\n      <td>26.0</td>\n    </tr>\n    <tr>\n      <th>10</th>\n      <td>段丽萍</td>\n      <td>1</td>\n      <td>材料1--16</td>\n      <td>4.0</td>\n      <td>4.0</td>\n      <td>4.0</td>\n    </tr>\n    <tr>\n      <th>11</th>\n      <td>李云朵朵</td>\n      <td>4</td>\n      <td>材料1--16、铁路安全1--16、信号1--16、行车实践1--16、行车理论1--16</td>\n      <td>28.0</td>\n      <td>28.0</td>\n      <td>28.0</td>\n    </tr>\n    <tr>\n      <th>12</th>\n      <td>陈修平</td>\n      <td>1</td>\n      <td>C语言理实1--16</td>\n      <td>2.0</td>\n      <td>2.0</td>\n      <td>2.0</td>\n    </tr>\n    <tr>\n      <th>13</th>\n      <td>刘婧</td>\n      <td>4</td>\n      <td>金工实训13--16、美容1--16、餐饮服务1--16、应急实训1--12</td>\n      <td>22.0</td>\n      <td>28.0</td>\n      <td>28.0</td>\n    </tr>\n    <tr>\n      <th>15</th>\n      <td>邓莉军</td>\n      <td>4</td>\n      <td>普通话理实1--16、专英理实1--16、旅客心理1--16、沟通技巧1--16</td>\n      <td>20.0</td>\n      <td>20.0</td>\n      <td>20.0</td>\n    </tr>\n    <tr>\n      <th>16</th>\n      <td>江雁秋</td>\n      <td>2</td>\n      <td>急救理实1--16、客服业务1--16</td>\n      <td>18.0</td>\n      <td>18.0</td>\n      <td>18.0</td>\n    </tr>\n    <tr>\n      <th>17</th>\n      <td>陈琳</td>\n      <td>4</td>\n      <td>安检实训1--12、客运实践1--16、客运理论1--16、综合实训13--16、应急实训1...</td>\n      <td>22.0</td>\n      <td>24.0</td>\n      <td>24.0</td>\n    </tr>\n    <tr>\n      <th>18</th>\n      <td>杜明艳</td>\n      <td>4</td>\n      <td>安检实训1--12、站场实践1--12、站场理论1--12、综合实训13--16、客运实训1...</td>\n      <td>22.0</td>\n      <td>18.0</td>\n      <td>22.0</td>\n    </tr>\n    <tr>\n      <th>19</th>\n      <td>杨益州</td>\n      <td>3</td>\n      <td>电工实践1--16、电工理论1--16、调度实践1--12、调度理论1--12、行车理实1--16</td>\n      <td>28.0</td>\n      <td>16.0</td>\n      <td>28.0</td>\n    </tr>\n    <tr>\n      <th>20</th>\n      <td>杨飞</td>\n      <td>1</td>\n      <td>电机实践1--16、电机理论1--16</td>\n      <td>8.0</td>\n      <td>8.0</td>\n      <td>8.0</td>\n    </tr>\n    <tr>\n      <th>21</th>\n      <td>王毅</td>\n      <td>2</td>\n      <td>电机实践1--16、电机理论1--16、车联网理实1--16</td>\n      <td>20.0</td>\n      <td>20.0</td>\n      <td>20.0</td>\n    </tr>\n    <tr>\n      <th>22</th>\n      <td>杨登静</td>\n      <td>2</td>\n      <td>电机实践1--16、电机理论1--16、混动实践1--16、混动理论1--16</td>\n      <td>28.0</td>\n      <td>28.0</td>\n      <td>28.0</td>\n    </tr>\n    <tr>\n      <th>23</th>\n      <td>陈湘兰</td>\n      <td>2</td>\n      <td>电机实践1--16、电机理论1--16、装配实践1--16、装配理论1--16</td>\n      <td>26.0</td>\n      <td>26.0</td>\n      <td>26.0</td>\n    </tr>\n    <tr>\n      <th>24</th>\n      <td>罗国晖</td>\n      <td>2</td>\n      <td>电机实践1--16、电机理论1--16、混动实践1--16、混动理论1--16</td>\n      <td>24.0</td>\n      <td>24.0</td>\n      <td>24.0</td>\n    </tr>\n    <tr>\n      <th>25</th>\n      <td>范灵利</td>\n      <td>2</td>\n      <td>混动实践1--16、混动理论1--16、概论1--16</td>\n      <td>28.0</td>\n      <td>28.0</td>\n      <td>28.0</td>\n    </tr>\n    <tr>\n      <th>26</th>\n      <td>刘洪良</td>\n      <td>1</td>\n      <td>装配实践1--16、装配理论1--16</td>\n      <td>24.0</td>\n      <td>24.0</td>\n      <td>24.0</td>\n    </tr>\n    <tr>\n      <th>27</th>\n      <td>刘玲芝</td>\n      <td>2</td>\n      <td>新技术1--16、维修接待理论1--16、维修接待实践1--16</td>\n      <td>24.0</td>\n      <td>24.0</td>\n      <td>24.0</td>\n    </tr>\n    <tr>\n      <th>28</th>\n      <td>张胜</td>\n      <td>1</td>\n      <td>车载网理论1--16、车载网实践1--16</td>\n      <td>6.0</td>\n      <td>6.0</td>\n      <td>6.0</td>\n    </tr>\n    <tr>\n      <th>29</th>\n      <td>杨军</td>\n      <td>1</td>\n      <td>电控理论1--16、电控实践1--16</td>\n      <td>6.0</td>\n      <td>6.0</td>\n      <td>6.0</td>\n    </tr>\n    <tr>\n      <th>30</th>\n      <td>肖华钰</td>\n      <td>1</td>\n      <td>线控理实1--16</td>\n      <td>4.0</td>\n      <td>4.0</td>\n      <td>4.0</td>\n    </tr>\n  </tbody>\n</table>\n</div>"
     },
     "execution_count": 11,
     "metadata": {},
     "output_type": "execute_result"
    }
   ],
   "source": [
    "check\n",
    "#[check['周课时13-16w']<=20]"
   ]
  },
  {
   "cell_type": "code",
   "execution_count": 12,
   "metadata": {
    "ExecuteTime": {
     "end_time": "2024-01-30T07:19:01.002184Z",
     "start_time": "2024-01-30T07:18:58.433354100Z"
    }
   },
   "outputs": [
    {
     "ename": "PermissionError",
     "evalue": "[Errno 13] Permission denied: '课时安排统.xlsx'",
     "output_type": "error",
     "traceback": [
      "\u001B[1;31m---------------------------------------------------------------------------\u001B[0m",
      "\u001B[1;31mPermissionError\u001B[0m                           Traceback (most recent call last)",
      "Cell \u001B[1;32mIn[12], line 1\u001B[0m\n\u001B[1;32m----> 1\u001B[0m \u001B[43mcheck\u001B[49m\u001B[38;5;241;43m.\u001B[39;49m\u001B[43mto_excel\u001B[49m\u001B[43m(\u001B[49m\u001B[38;5;124;43m'\u001B[39;49m\u001B[38;5;124;43m课时安排统.xlsx\u001B[39;49m\u001B[38;5;124;43m'\u001B[39;49m\u001B[43m)\u001B[49m\n",
      "File \u001B[1;32mC:\\Python312\\Lib\\site-packages\\pandas\\core\\generic.py:2345\u001B[0m, in \u001B[0;36mNDFrame.to_excel\u001B[1;34m(self, excel_writer, sheet_name, na_rep, float_format, columns, header, index, index_label, startrow, startcol, engine, merge_cells, inf_rep, freeze_panes, storage_options, engine_kwargs)\u001B[0m\n\u001B[0;32m   2332\u001B[0m \u001B[38;5;28;01mfrom\u001B[39;00m \u001B[38;5;21;01mpandas\u001B[39;00m\u001B[38;5;21;01m.\u001B[39;00m\u001B[38;5;21;01mio\u001B[39;00m\u001B[38;5;21;01m.\u001B[39;00m\u001B[38;5;21;01mformats\u001B[39;00m\u001B[38;5;21;01m.\u001B[39;00m\u001B[38;5;21;01mexcel\u001B[39;00m \u001B[38;5;28;01mimport\u001B[39;00m ExcelFormatter\n\u001B[0;32m   2334\u001B[0m formatter \u001B[38;5;241m=\u001B[39m ExcelFormatter(\n\u001B[0;32m   2335\u001B[0m     df,\n\u001B[0;32m   2336\u001B[0m     na_rep\u001B[38;5;241m=\u001B[39mna_rep,\n\u001B[1;32m   (...)\u001B[0m\n\u001B[0;32m   2343\u001B[0m     inf_rep\u001B[38;5;241m=\u001B[39minf_rep,\n\u001B[0;32m   2344\u001B[0m )\n\u001B[1;32m-> 2345\u001B[0m \u001B[43mformatter\u001B[49m\u001B[38;5;241;43m.\u001B[39;49m\u001B[43mwrite\u001B[49m\u001B[43m(\u001B[49m\n\u001B[0;32m   2346\u001B[0m \u001B[43m    \u001B[49m\u001B[43mexcel_writer\u001B[49m\u001B[43m,\u001B[49m\n\u001B[0;32m   2347\u001B[0m \u001B[43m    \u001B[49m\u001B[43msheet_name\u001B[49m\u001B[38;5;241;43m=\u001B[39;49m\u001B[43msheet_name\u001B[49m\u001B[43m,\u001B[49m\n\u001B[0;32m   2348\u001B[0m \u001B[43m    \u001B[49m\u001B[43mstartrow\u001B[49m\u001B[38;5;241;43m=\u001B[39;49m\u001B[43mstartrow\u001B[49m\u001B[43m,\u001B[49m\n\u001B[0;32m   2349\u001B[0m \u001B[43m    \u001B[49m\u001B[43mstartcol\u001B[49m\u001B[38;5;241;43m=\u001B[39;49m\u001B[43mstartcol\u001B[49m\u001B[43m,\u001B[49m\n\u001B[0;32m   2350\u001B[0m \u001B[43m    \u001B[49m\u001B[43mfreeze_panes\u001B[49m\u001B[38;5;241;43m=\u001B[39;49m\u001B[43mfreeze_panes\u001B[49m\u001B[43m,\u001B[49m\n\u001B[0;32m   2351\u001B[0m \u001B[43m    \u001B[49m\u001B[43mengine\u001B[49m\u001B[38;5;241;43m=\u001B[39;49m\u001B[43mengine\u001B[49m\u001B[43m,\u001B[49m\n\u001B[0;32m   2352\u001B[0m \u001B[43m    \u001B[49m\u001B[43mstorage_options\u001B[49m\u001B[38;5;241;43m=\u001B[39;49m\u001B[43mstorage_options\u001B[49m\u001B[43m,\u001B[49m\n\u001B[0;32m   2353\u001B[0m \u001B[43m    \u001B[49m\u001B[43mengine_kwargs\u001B[49m\u001B[38;5;241;43m=\u001B[39;49m\u001B[43mengine_kwargs\u001B[49m\u001B[43m,\u001B[49m\n\u001B[0;32m   2354\u001B[0m \u001B[43m\u001B[49m\u001B[43m)\u001B[49m\n",
      "File \u001B[1;32mC:\\Python312\\Lib\\site-packages\\pandas\\io\\formats\\excel.py:946\u001B[0m, in \u001B[0;36mExcelFormatter.write\u001B[1;34m(self, writer, sheet_name, startrow, startcol, freeze_panes, engine, storage_options, engine_kwargs)\u001B[0m\n\u001B[0;32m    942\u001B[0m     need_save \u001B[38;5;241m=\u001B[39m \u001B[38;5;28;01mFalse\u001B[39;00m\n\u001B[0;32m    943\u001B[0m \u001B[38;5;28;01melse\u001B[39;00m:\n\u001B[0;32m    944\u001B[0m     \u001B[38;5;66;03m# error: Cannot instantiate abstract class 'ExcelWriter' with abstract\u001B[39;00m\n\u001B[0;32m    945\u001B[0m     \u001B[38;5;66;03m# attributes 'engine', 'save', 'supported_extensions' and 'write_cells'\u001B[39;00m\n\u001B[1;32m--> 946\u001B[0m     writer \u001B[38;5;241m=\u001B[39m \u001B[43mExcelWriter\u001B[49m\u001B[43m(\u001B[49m\u001B[43m  \u001B[49m\u001B[38;5;66;43;03m# type: ignore[abstract]\u001B[39;49;00m\n\u001B[0;32m    947\u001B[0m \u001B[43m        \u001B[49m\u001B[43mwriter\u001B[49m\u001B[43m,\u001B[49m\n\u001B[0;32m    948\u001B[0m \u001B[43m        \u001B[49m\u001B[43mengine\u001B[49m\u001B[38;5;241;43m=\u001B[39;49m\u001B[43mengine\u001B[49m\u001B[43m,\u001B[49m\n\u001B[0;32m    949\u001B[0m \u001B[43m        \u001B[49m\u001B[43mstorage_options\u001B[49m\u001B[38;5;241;43m=\u001B[39;49m\u001B[43mstorage_options\u001B[49m\u001B[43m,\u001B[49m\n\u001B[0;32m    950\u001B[0m \u001B[43m        \u001B[49m\u001B[43mengine_kwargs\u001B[49m\u001B[38;5;241;43m=\u001B[39;49m\u001B[43mengine_kwargs\u001B[49m\u001B[43m,\u001B[49m\n\u001B[0;32m    951\u001B[0m \u001B[43m    \u001B[49m\u001B[43m)\u001B[49m\n\u001B[0;32m    952\u001B[0m     need_save \u001B[38;5;241m=\u001B[39m \u001B[38;5;28;01mTrue\u001B[39;00m\n\u001B[0;32m    954\u001B[0m \u001B[38;5;28;01mtry\u001B[39;00m:\n",
      "File \u001B[1;32mC:\\Python312\\Lib\\site-packages\\pandas\\io\\excel\\_openpyxl.py:61\u001B[0m, in \u001B[0;36mOpenpyxlWriter.__init__\u001B[1;34m(self, path, engine, date_format, datetime_format, mode, storage_options, if_sheet_exists, engine_kwargs, **kwargs)\u001B[0m\n\u001B[0;32m     57\u001B[0m \u001B[38;5;28;01mfrom\u001B[39;00m \u001B[38;5;21;01mopenpyxl\u001B[39;00m\u001B[38;5;21;01m.\u001B[39;00m\u001B[38;5;21;01mworkbook\u001B[39;00m \u001B[38;5;28;01mimport\u001B[39;00m Workbook\n\u001B[0;32m     59\u001B[0m engine_kwargs \u001B[38;5;241m=\u001B[39m combine_kwargs(engine_kwargs, kwargs)\n\u001B[1;32m---> 61\u001B[0m \u001B[38;5;28;43msuper\u001B[39;49m\u001B[43m(\u001B[49m\u001B[43m)\u001B[49m\u001B[38;5;241;43m.\u001B[39;49m\u001B[38;5;21;43m__init__\u001B[39;49m\u001B[43m(\u001B[49m\n\u001B[0;32m     62\u001B[0m \u001B[43m    \u001B[49m\u001B[43mpath\u001B[49m\u001B[43m,\u001B[49m\n\u001B[0;32m     63\u001B[0m \u001B[43m    \u001B[49m\u001B[43mmode\u001B[49m\u001B[38;5;241;43m=\u001B[39;49m\u001B[43mmode\u001B[49m\u001B[43m,\u001B[49m\n\u001B[0;32m     64\u001B[0m \u001B[43m    \u001B[49m\u001B[43mstorage_options\u001B[49m\u001B[38;5;241;43m=\u001B[39;49m\u001B[43mstorage_options\u001B[49m\u001B[43m,\u001B[49m\n\u001B[0;32m     65\u001B[0m \u001B[43m    \u001B[49m\u001B[43mif_sheet_exists\u001B[49m\u001B[38;5;241;43m=\u001B[39;49m\u001B[43mif_sheet_exists\u001B[49m\u001B[43m,\u001B[49m\n\u001B[0;32m     66\u001B[0m \u001B[43m    \u001B[49m\u001B[43mengine_kwargs\u001B[49m\u001B[38;5;241;43m=\u001B[39;49m\u001B[43mengine_kwargs\u001B[49m\u001B[43m,\u001B[49m\n\u001B[0;32m     67\u001B[0m \u001B[43m\u001B[49m\u001B[43m)\u001B[49m\n\u001B[0;32m     69\u001B[0m \u001B[38;5;66;03m# ExcelWriter replaced \"a\" by \"r+\" to allow us to first read the excel file from\u001B[39;00m\n\u001B[0;32m     70\u001B[0m \u001B[38;5;66;03m# the file and later write to it\u001B[39;00m\n\u001B[0;32m     71\u001B[0m \u001B[38;5;28;01mif\u001B[39;00m \u001B[38;5;124m\"\u001B[39m\u001B[38;5;124mr+\u001B[39m\u001B[38;5;124m\"\u001B[39m \u001B[38;5;129;01min\u001B[39;00m \u001B[38;5;28mself\u001B[39m\u001B[38;5;241m.\u001B[39m_mode:  \u001B[38;5;66;03m# Load from existing workbook\u001B[39;00m\n",
      "File \u001B[1;32mC:\\Python312\\Lib\\site-packages\\pandas\\io\\excel\\_base.py:1263\u001B[0m, in \u001B[0;36mExcelWriter.__init__\u001B[1;34m(self, path, engine, date_format, datetime_format, mode, storage_options, if_sheet_exists, engine_kwargs)\u001B[0m\n\u001B[0;32m   1259\u001B[0m \u001B[38;5;28mself\u001B[39m\u001B[38;5;241m.\u001B[39m_handles \u001B[38;5;241m=\u001B[39m IOHandles(\n\u001B[0;32m   1260\u001B[0m     cast(IO[\u001B[38;5;28mbytes\u001B[39m], path), compression\u001B[38;5;241m=\u001B[39m{\u001B[38;5;124m\"\u001B[39m\u001B[38;5;124mcompression\u001B[39m\u001B[38;5;124m\"\u001B[39m: \u001B[38;5;28;01mNone\u001B[39;00m}\n\u001B[0;32m   1261\u001B[0m )\n\u001B[0;32m   1262\u001B[0m \u001B[38;5;28;01mif\u001B[39;00m \u001B[38;5;129;01mnot\u001B[39;00m \u001B[38;5;28misinstance\u001B[39m(path, ExcelWriter):\n\u001B[1;32m-> 1263\u001B[0m     \u001B[38;5;28mself\u001B[39m\u001B[38;5;241m.\u001B[39m_handles \u001B[38;5;241m=\u001B[39m \u001B[43mget_handle\u001B[49m\u001B[43m(\u001B[49m\n\u001B[0;32m   1264\u001B[0m \u001B[43m        \u001B[49m\u001B[43mpath\u001B[49m\u001B[43m,\u001B[49m\u001B[43m \u001B[49m\u001B[43mmode\u001B[49m\u001B[43m,\u001B[49m\u001B[43m \u001B[49m\u001B[43mstorage_options\u001B[49m\u001B[38;5;241;43m=\u001B[39;49m\u001B[43mstorage_options\u001B[49m\u001B[43m,\u001B[49m\u001B[43m \u001B[49m\u001B[43mis_text\u001B[49m\u001B[38;5;241;43m=\u001B[39;49m\u001B[38;5;28;43;01mFalse\u001B[39;49;00m\n\u001B[0;32m   1265\u001B[0m \u001B[43m    \u001B[49m\u001B[43m)\u001B[49m\n\u001B[0;32m   1266\u001B[0m \u001B[38;5;28mself\u001B[39m\u001B[38;5;241m.\u001B[39m_cur_sheet \u001B[38;5;241m=\u001B[39m \u001B[38;5;28;01mNone\u001B[39;00m\n\u001B[0;32m   1268\u001B[0m \u001B[38;5;28;01mif\u001B[39;00m date_format \u001B[38;5;129;01mis\u001B[39;00m \u001B[38;5;28;01mNone\u001B[39;00m:\n",
      "File \u001B[1;32mC:\\Python312\\Lib\\site-packages\\pandas\\io\\common.py:872\u001B[0m, in \u001B[0;36mget_handle\u001B[1;34m(path_or_buf, mode, encoding, compression, memory_map, is_text, errors, storage_options)\u001B[0m\n\u001B[0;32m    863\u001B[0m         handle \u001B[38;5;241m=\u001B[39m \u001B[38;5;28mopen\u001B[39m(\n\u001B[0;32m    864\u001B[0m             handle,\n\u001B[0;32m    865\u001B[0m             ioargs\u001B[38;5;241m.\u001B[39mmode,\n\u001B[1;32m   (...)\u001B[0m\n\u001B[0;32m    868\u001B[0m             newline\u001B[38;5;241m=\u001B[39m\u001B[38;5;124m\"\u001B[39m\u001B[38;5;124m\"\u001B[39m,\n\u001B[0;32m    869\u001B[0m         )\n\u001B[0;32m    870\u001B[0m     \u001B[38;5;28;01melse\u001B[39;00m:\n\u001B[0;32m    871\u001B[0m         \u001B[38;5;66;03m# Binary mode\u001B[39;00m\n\u001B[1;32m--> 872\u001B[0m         handle \u001B[38;5;241m=\u001B[39m \u001B[38;5;28;43mopen\u001B[39;49m\u001B[43m(\u001B[49m\u001B[43mhandle\u001B[49m\u001B[43m,\u001B[49m\u001B[43m \u001B[49m\u001B[43mioargs\u001B[49m\u001B[38;5;241;43m.\u001B[39;49m\u001B[43mmode\u001B[49m\u001B[43m)\u001B[49m\n\u001B[0;32m    873\u001B[0m     handles\u001B[38;5;241m.\u001B[39mappend(handle)\n\u001B[0;32m    875\u001B[0m \u001B[38;5;66;03m# Convert BytesIO or file objects passed with an encoding\u001B[39;00m\n",
      "\u001B[1;31mPermissionError\u001B[0m: [Errno 13] Permission denied: '课时安排统.xlsx'"
     ]
    }
   ],
   "source": [
    "check.to_excel('课时安排统.xlsx')"
   ]
  },
  {
   "cell_type": "code",
   "execution_count": null,
   "metadata": {
    "ExecuteTime": {
     "start_time": "2024-01-30T07:19:00.993185900Z"
    }
   },
   "outputs": [],
   "source": []
  }
 ],
 "metadata": {
  "kernelspec": {
   "display_name": "Python 3",
   "language": "python",
   "name": "python3"
  },
  "language_info": {
   "codemirror_mode": {
    "name": "ipython",
    "version": 3
   },
   "file_extension": ".py",
   "mimetype": "text/x-python",
   "name": "python",
   "nbconvert_exporter": "python",
   "pygments_lexer": "ipython3",
   "version": "3.12.0"
  }
 },
 "nbformat": 4,
 "nbformat_minor": 2
}
